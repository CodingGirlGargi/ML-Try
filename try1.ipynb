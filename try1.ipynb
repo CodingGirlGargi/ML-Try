{
  "nbformat": 4,
  "nbformat_minor": 0,
  "metadata": {
    "colab": {
      "provenance": [],
      "authorship_tag": "ABX9TyPQVzVUL+uF1+Vovce+PJhu",
      "include_colab_link": true
    },
    "kernelspec": {
      "name": "python3",
      "display_name": "Python 3"
    },
    "language_info": {
      "name": "python"
    }
  },
  "cells": [
    {
      "cell_type": "markdown",
      "metadata": {
        "id": "view-in-github",
        "colab_type": "text"
      },
      "source": [
        "<a href=\"https://colab.research.google.com/github/CodingGirlGargi/ML-Try/blob/main/try1.ipynb\" target=\"_parent\"><img src=\"https://colab.research.google.com/assets/colab-badge.svg\" alt=\"Open In Colab\"/></a>"
      ]
    },
    {
      "cell_type": "code",
      "execution_count": null,
      "metadata": {
        "id": "1652-JVNCmZC"
      },
      "outputs": [],
      "source": [
        "import numpy as np\n",
        "import matplotlib.pyplot as plt\n",
        "import time\n",
        "import json"
      ]
    },
    {
      "cell_type": "code",
      "source": [
        "import torch\n",
        "from torch import nn\n",
        "from torch import tensor\n",
        "from torch import optim\n",
        "\n",
        "import torch.nn.functional as F\n",
        "from torch.autograd import Variable\n"
      ],
      "metadata": {
        "id": "no8rl7DjC3qQ"
      },
      "execution_count": null,
      "outputs": []
    },
    {
      "cell_type": "code",
      "source": [
        "from torchvision import datasets, transforms\n",
        "import torchvision.models as models"
      ],
      "metadata": {
        "id": "JBXNSTBFDNOE"
      },
      "execution_count": null,
      "outputs": []
    },
    {
      "cell_type": "code",
      "source": [
        "import argparse\n",
        "import seaborn as sns\n",
        "import PIL\n",
        "from PIL import Image\n",
        "from collections import OrderedDict"
      ],
      "metadata": {
        "id": "eHU2D5xMDWUb"
      },
      "execution_count": null,
      "outputs": []
    },
    {
      "cell_type": "code",
      "source": [
        "import"
      ],
      "metadata": {
        "id": "NqBFAcYODnmW"
      },
      "execution_count": null,
      "outputs": []
    }
  ]
}